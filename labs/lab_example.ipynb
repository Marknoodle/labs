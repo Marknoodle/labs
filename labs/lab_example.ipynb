# Variables, Data Types, and Casting in C#

## Introduction

Welcome to this interactive lab on variables, data types, and casting in C#. This notebook will guide you through key concepts while allowing you to run and experiment with code in real-time.

## I. Foundation: Data in Memory

### How Computers Represent Data

In computer memory, all data is ultimately stored as binary - sequences of 0s and 1s. Different data types use different patterns of these binary digits to represent values.

### Bits, Bytes, and Memory Allocation

- A bit is the smallest unit of data, either 0 or 1.
- A byte is 8 bits and can represent 256 different values (2^8).
- Integers, floating-point numbers, and other data types use multiple bytes.

Let's see how much memory different types use in C#:

```csharp
using System;

class MemoryAllocation
{
    static void Main()
    {
        Console.WriteLine($"Size of int: {sizeof(int)} bytes");
        Console.WriteLine($"Size of float: {sizeof(float)} bytes");
        Console.WriteLine($"Size of double: {sizeof(double)} bytes");
        Console.WriteLine($"Size of char: {sizeof(char)} bytes");
        Console.WriteLine($"Size of bool: {sizeof(bool)} bytes");
    }
}
```

Run this code and observe the output. What do you notice about the sizes of different types?
